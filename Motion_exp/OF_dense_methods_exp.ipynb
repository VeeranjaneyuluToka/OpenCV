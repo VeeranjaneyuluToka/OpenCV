{
 "cells": [
  {
   "cell_type": "code",
   "execution_count": 1,
   "metadata": {},
   "outputs": [],
   "source": [
    "import numpy as np\n",
    "import cv2 as cv\n",
    "import os\n",
    "\n",
    "import matplotlib.pyplot as plt\n",
    "\n",
    "from IPython.display import Video\n",
    "from ipywebrtc import VideoStream"
   ]
  },
  {
   "cell_type": "code",
   "execution_count": 2,
   "metadata": {},
   "outputs": [
    {
     "data": {
      "application/vnd.jupyter.widget-view+json": {
       "model_id": "91db5f3b16a54bbaabb021ec134e11b2",
       "version_major": 2,
       "version_minor": 0
      },
      "text/plain": [
       "VideoStream(video=Video(value=b'\\x1aE\\xdf\\xa3\\x01\\x00\\x00\\x00\\x00\\x00\\x00#B\\x86\\x81\\x01B\\xf7\\x81\\x01B\\xf2\\x81\\…"
      ]
     },
     "metadata": {},
     "output_type": "display_data"
    }
   ],
   "source": [
    "VideoStream.from_file(\"/mnt/data/small_video_clips/raws_Breaking_Bad_s01e01/raws_Breaking_Bad_s01e01-9.mkv\")"
   ]
  },
  {
   "cell_type": "code",
   "execution_count": 3,
   "metadata": {},
   "outputs": [
    {
     "data": {
      "text/html": [
       "\n",
       "    <video alt=\"test\" controls>\n",
       "        <source src=\"/mnt/data/small_video_clips/raws_Breaking_Bad_s01e01/raws_Breaking_Bad_s01e01-9.mkv\" type=\"video/mp4\">\n",
       "    </video>\n"
      ],
      "text/plain": [
       "<IPython.core.display.HTML object>"
      ]
     },
     "execution_count": 3,
     "metadata": {},
     "output_type": "execute_result"
    }
   ],
   "source": [
    "from IPython.display import HTML\n",
    "\n",
    "HTML(\"\"\"\n",
    "    <video alt=\"test\" controls>\n",
    "        <source src=\"/mnt/data/small_video_clips/raws_Breaking_Bad_s01e01/raws_Breaking_Bad_s01e01-9.mkv\" type=\"video/mp4\">\n",
    "    </video>\n",
    "\"\"\")"
   ]
  },
  {
   "cell_type": "code",
   "execution_count": 4,
   "metadata": {},
   "outputs": [],
   "source": [
    "def draw_flow(img, flow, step=16):\n",
    "    h, w = img.shape[:2]\n",
    "    y, x = np.mgrid[step/2:h:step, step/2:w:step].reshape(2, -1).astype(int)\n",
    "    fx, fy = flow[y, x].T\n",
    "    lines = np.vstack([x, y, x+fx, y+fy]).T.reshape(-1, 2, 2)\n",
    "    lines = np.int32(lines+0.5)\n",
    "    vis = cv.cvtColor(img, cv.COLOR_GRAY2BGR)\n",
    "    cv.polylines(vis, lines, 0, (0, 255, 0))\n",
    "    for (x1, y1), (_x2, _y2) in lines:\n",
    "        cv.circle(vis, (x1, y1), 1, (0, 255, 0), -1)\n",
    "    return vis"
   ]
  },
  {
   "cell_type": "code",
   "execution_count": 5,
   "metadata": {},
   "outputs": [],
   "source": [
    "def draw_hsv(flow):\n",
    "    h, w = flow.shape[:2]\n",
    "    fx, fy = flow[:,:,0], flow[:,:,1]\n",
    "    ang = np.arctan2(fy, fx) + np.pi\n",
    "    v = np.sqrt(fx*fx+fy*fy)\n",
    "    hsv = np.zeros((h, w, 3), np.uint8)\n",
    "    hsv[...,0] = ang*(180/np.pi/2)\n",
    "    hsv[...,1] = 255\n",
    "    hsv[...,2] = np.minimum(v*4, 255)\n",
    "    bgr = cv.cvtColor(hsv, cv.COLOR_HSV2BGR)\n",
    "    return bgr"
   ]
  },
  {
   "cell_type": "code",
   "execution_count": 6,
   "metadata": {},
   "outputs": [],
   "source": [
    "def warp_flow(img, flow):\n",
    "    h, w = flow.shape[:2]\n",
    "    flow = -flow\n",
    "    flow[:,:,0] += np.arange(w)\n",
    "    flow[:,:,1] += np.arange(h)[:,np.newaxis]\n",
    "    res = cv.remap(img, flow, None, cv.INTER_LINEAR)\n",
    "    return res"
   ]
  },
  {
   "cell_type": "code",
   "execution_count": 7,
   "metadata": {},
   "outputs": [],
   "source": [
    "def display(frame):    \n",
    "    plt.imshow(frame)\n",
    "    plt.axis('off')\n",
    "    plt.show()"
   ]
  },
  {
   "cell_type": "code",
   "execution_count": 8,
   "metadata": {},
   "outputs": [],
   "source": [
    "\"\"\" input and output file paths \"\"\"\n",
    "path = '/mnt/data/small_video_clips/files_to_test_motion_algos/'\n",
    "\n",
    "out_path_FB = '/mnt/data/small_video_clips/FB_dense_OF_out/'\n",
    "out_path_DenseRLOF = '/mnt/data/small_video_clips/dense_RLOF_OF_out/'\n",
    "out_path_OF_SF = '/mnt/data/small_video_clips/OF_SF_out/'\n",
    "out_path_STD = '/mnt/data/small_video_clips/OF_SparseToDense/'\n",
    "out_path_DeepFlow = '/mnt/data/small_video_clips/DeepFlow/'\n",
    "out_path_tv1Flow = '/mnt/data/small_video_clips/tv1flow/'\n",
    "out_path_vOFr = '/mnt/data/small_video_clips/vOFr/'\n",
    "out_path_PCAFlow = '/mnt/data/small_video_clips/PCAFlow'\n",
    "out_path_SparseRLOF = '/mnt/data/small_video_clips/SparseFlow/'"
   ]
  },
  {
   "cell_type": "code",
   "execution_count": 9,
   "metadata": {},
   "outputs": [],
   "source": [
    "\"\"\" creates the output directories if they are not created yet \"\"\"\n",
    "def create_output_directories():\n",
    "    if not os.path.exists(out_path_FB):\n",
    "        os.makedirs(out_path_FB)\n",
    "    if not os.path.exists(out_path_DenseRLOF):\n",
    "        os.makedirs(out_path_DenseRLOF)\n",
    "    if not os.path.exists(out_path_OF_SF):\n",
    "        os.makedirs(out_path_OF_SF)\n",
    "    if not os.path.exists(out_path_STD):\n",
    "        os.makedirs(out_path_STD)\n",
    "    if not os.path.exists(out_path_DeepFlow):\n",
    "        os.makedirs(out_path_DeepFlow)\n",
    "    if not os.path.exists(out_path_tv1Flow):\n",
    "        os.makedirs(out_path_tv1Flow)\n",
    "    if not os.path.exists(out_path_vOFr):\n",
    "        os.makedirs(out_path_vOFr)\n",
    "    if not os.path.exists(out_path_PCAFlow):\n",
    "        os.makedirs(out_path_PCAFlow)\n",
    "    if not os.path.exists(out_path_SparseRLOF):\n",
    "        os.makedirs(out_path_SparseRLOF)    "
   ]
  },
  {
   "cell_type": "code",
   "execution_count": 10,
   "metadata": {},
   "outputs": [],
   "source": [
    "\"\"\" Enable the approach here \"\"\"\n",
    "isFarneBack = False\n",
    "isDeepFlow = False\n",
    "isDenseRLOF = False\n",
    "isTV1Flow = True\n",
    "isPCAFlow = False\n",
    "isOFSimpleFlow = False\n",
    "isSparseRLOF = False\n",
    "isOFSparseToDense = False\n",
    "isvOFr = False\n",
    "\n",
    "target_size = (224, 224 #target size"
   ]
  },
  {
   "cell_type": "code",
   "execution_count": 11,
   "metadata": {},
   "outputs": [],
   "source": [
    "\"\"\" create the of object here based on approach choosen \"\"\"\n",
    "def create_OF_object():\n",
    "    if isDeepFlow:\n",
    "        optFlow = cv.optflow.createOptFlow_DeepFlow()\n",
    "    elif isDenseRLOF:\n",
    "        optFlow = cv.optflow.createOptFlow_DenseRLOF()\n",
    "    elif isTV1Flow:\n",
    "        optFlow = cv.optflow.createOptFlow_DualTVL1()\n",
    "    elif isFarneBack:\n",
    "        \"\"\" parameters \"\"\"\n",
    "        numLevels = 3 #5\n",
    "        pyrScale = 0.5\n",
    "        fastPyramids = False\n",
    "        winSize = 9 #13\n",
    "        numIters = 10\n",
    "        polyN = 5\n",
    "        polySigma = 1.2\n",
    "        flags = 0\n",
    "        optFlow = cv.FarnebackOpticalFlow_create(numLevels, pyrScale, fastPyramids, winSize, numIters, polyN, polySigma, flags)\n",
    "        #optFlow = cv.optflow.createOptFlow_Farneback(numLevels, pyrScale, fastPyramids, winSize, numIters, polyN, polySigma, flags)\n",
    "    elif isPCAFlow:\n",
    "        optFlow = cv.optflow.createOptFlow_PCAFlow()\n",
    "    elif isSimpleFlow:\n",
    "        optFlow = cv.optflow.createOptFlow_SimpleFlow()\n",
    "    elif isSparseRLOF:\n",
    "        optFlow = cv.optflow.createOptFlow_SparseRLOF()\n",
    "    elif isOFSparseToDense:\n",
    "        optFlow = cv.optflow.createOptFlow_SparseToDense()\n",
    "    elif isvOFr:\n",
    "        optFlow = cv.VariationalRefinement_create()\n",
    "\n",
    "    return optFlow"
   ]
  },
  {
   "cell_type": "code",
   "execution_count": 12,
   "metadata": {},
   "outputs": [],
   "source": [
    "\"\"\" create output file name here to write the OF output into the file \"\"\"\n",
    "def create_output_filename(dst_file_name):\n",
    "    if isFarneBack:\n",
    "        out_file_path = os.path.join(out_path_FB, dst_file_name)\n",
    "    elif isDenseRLOF:\n",
    "        out_file_path = os.path.join(out_path_DenseRLOF, dst_file_name)\n",
    "    elif isOFSimpleFlow:\n",
    "        out_file_path = os.path.join(out_path_OF_SF, dst_file_name)\n",
    "    elif isOFSparseToDense:\n",
    "        out_file_path = os.path.join(out_path_STD, dst_file_name)\n",
    "    elif isDeepFlow:\n",
    "        out_file_path = os.path.join(out_path_DeepFlow, dst_file_name)\n",
    "    elif isTV1Flow:\n",
    "        out_file_path = os.path.join(out_path_tv1Flow, dst_file_name)\n",
    "    elif isvOFr:\n",
    "        out_file_path = os.path.join(out_path_vOFr, dst_file_name)\n",
    "    elif isPCAFlow:\n",
    "        out_file_path = os.path.join(out_path_PCAFlow, dst_file_name)\n",
    "    elif isSparseRLOF:\n",
    "        out_file_path = os.path.join(out_path_SparseRLOF, dst_file_name)\n",
    "        \n",
    "    return out_file_path"
   ]
  },
  {
   "cell_type": "code",
   "execution_count": 13,
   "metadata": {},
   "outputs": [],
   "source": [
    "def get_tv1_parameters(optflow):\n",
    "    epsilon = optflow.getEpsilon()\n",
    "    gamma = optflow.getGamma()\n",
    "    innIter = optflow.getInnerIterations()\n",
    "    lambda_val = optflow.getLambda()\n",
    "    medFilter = optflow.getMedianFiltering()\n",
    "    outIter = optflow.getOuterIterations()\n",
    "    scaleNum = optflow.getScalesNumber()\n",
    "    scalestep = optflow.getScaleStep()\n",
    "    tau = optflow.getTau()\n",
    "    theta = optflow.getTheta()\n",
    "    initFlow = optflow.getUseInitialFlow()\n",
    "    warpNum = optflow.getWarpingsNumber()\n",
    "    \n",
    "    #print(\"params:\", epsilon, gamma, innIter, lambda_val, medFilter, outIter, scaleNum, scalestep, tau, theta, initFlow, warpNum)"
   ]
  },
  {
   "cell_type": "code",
   "execution_count": 14,
   "metadata": {},
   "outputs": [],
   "source": [
    "def set_tv1_parameters(optflow):\n",
    "    epsilon = 0.0 \n",
    "    optflow.setEpsilon(epsilon)\n",
    "    gamma = 0.0\n",
    "    optflow.setGamma(gamma)\n",
    "    innIter = 0\n",
    "    optflow.setInnerIterations(innIter)\n",
    "    lambda_val = 0.0\n",
    "    optflow.setLambda(lambda_val)\n",
    "    medFilter = 0\n",
    "    optflow.setMedianFiltering(medFilter)\n",
    "    outIter = 0\n",
    "    optflow.setOuterIterations(outIter)\n",
    "    scaleNum = 0\n",
    "    optflow.setScalesNumber(scaleNum)\n",
    "    scalestep = 0.0\n",
    "    optflow.setScaleStep(scalestep)\n",
    "    tau = 0.0\n",
    "    optflow.setTau(tau)\n",
    "    theta = 0.0\n",
    "    optflow.setTheta(theta)\n",
    "    initFlow = 0\n",
    "    optflow.setUseInitialFlow(initFlow)\n",
    "    warpNum = 0\n",
    "    optflow.setWarpingsNumber(warpNum)"
   ]
  },
  {
   "cell_type": "code",
   "execution_count": 15,
   "metadata": {},
   "outputs": [],
   "source": [
    "def calc_optical_flow(optFlow, res_prev_frame, res_curr_frame, prev_gray, curr_gray):\n",
    "    if isFarneBack:\n",
    "        #flow = cv.calcOpticalFlowFarneback(prev_gray, curr_gray, None, 0.5, 3, 15, 3, 5, 1.2, 0)\n",
    "        flow_field = np.zeros((target_size[0], target_size[1], 2))\n",
    "        flow = optFlow.calc(prev_gray, curr_gray, flow_field)\n",
    "\n",
    "    elif isDenseRLOF:\n",
    "        flow_field = np.zeros((target_size[0], target_size[1], 2))\n",
    "        flow = cv.optflow.calcOpticalFlowDenseRLOF(res_prev_frame, res_curr_frame, flow_field)\n",
    "\n",
    "    elif isOFSimpleFlow:\n",
    "        flow_field = np.zeros((target_size[0], target_size[1], 2))\n",
    "        flow = cv.optflow.calcOpticalFlowSF(res_prev_frame, res_curr_frame, 3, 2, 4, 4.1, 25.5, 18, 55.0, 25.5, 0.35, 18, 55.0, 25.5, 10)\n",
    "\n",
    "    elif isOFSparseToDense:\n",
    "        flow_field = np.zeros((target_size[0], target_size[1], 2))\n",
    "        flow = cv.optflow.calcOpticalFlowSparseToDense(res_prev_frame, res_curr_frame, flow_field);\n",
    "\n",
    "    elif isDeepFlow:\n",
    "        flow_field = np.zeros((target_size[0], target_size[1], 2))\n",
    "        flow = optFlow.calc(prev_gray, curr_gray, flow_field)\n",
    "\n",
    "    elif isTV1Flow:\n",
    "        flow_field = np.zeros((target_size[0], target_size[1], 2))\n",
    "        get_tv1_parameters(optFlow)\n",
    "        #set_tv1_parameters(optFlow)\n",
    "        flow = optFlow.calc(prev_gray, curr_gray, flow_field)\n",
    "\n",
    "    elif isvOFr:\n",
    "        flow_u = np.zeros(target_size[0], target_size[1], dtype=np.float32)\n",
    "        flow_v = np.zeros(target_size[0], target_size[1], dtype=np.float32)\n",
    "\n",
    "        flow_u, flow_v = optFlow.calcUV(prev_gray, curr_gray, flow_u, flow_v)\n",
    "        flow = np.dstack([flow_u, flow_v])\n",
    "        \n",
    "    elif isSparseRLOF:\n",
    "        print(\"in isSparseRLOF, Yet to add support\")\n",
    "        \n",
    "    elif isPCAFlow:\n",
    "        print(\"in isPCAFlow, yet to add support\")\n",
    "        \n",
    "    return flow"
   ]
  },
  {
   "cell_type": "code",
   "execution_count": 16,
   "metadata": {},
   "outputs": [],
   "source": [
    "def main():\n",
    "    create_output_directories()\n",
    "        \n",
    "    optFlow = create_OF_object()\n",
    "    \n",
    "    \"\"\" iter for all video clips \"\"\"\n",
    "    for fname in os.listdir(path):\n",
    "        src_file_path = os.path.join(path, fname)\n",
    "\n",
    "        \"\"\" load video file \"\"\"\n",
    "        cam = cv.VideoCapture(src_file_path)\n",
    "    \n",
    "        \"\"\" read first frame and convert to gray \"\"\"\n",
    "        _ret, prev_frame = cam.read()\n",
    "        frame_height, frame_width = prev_frame.shape[:2]\n",
    "        \n",
    "        \"\"\" resize it to new width and height of I3D model\"\"\"\n",
    "        res_prev_frame = cv.resize(prev_frame, target_size)\n",
    "        \n",
    "        \"\"\" convert from BGR to RGB \"\"\"\n",
    "        prev_gray = cv.cvtColor(res_prev_frame, cv.COLOR_BGR2GRAY)\n",
    "\n",
    "        \"\"\"create videowriter handle to create a output video file \"\"\"\n",
    "        base, ext = fname.split('.')\n",
    "        dst_file_name = base+'.avi'\n",
    "        \n",
    "        out_file_path = create_output_filename(dst_file_name)\n",
    "        writer = cv.VideoWriter(out_file_path, cv.VideoWriter_fourcc('M','J','P','G'), 10, target_size)\n",
    "\n",
    "        \"\"\" choose the flow display method \"\"\"\n",
    "        show_hsv = True\n",
    "        show_glitch = False\n",
    "        cur_glitch = prev_frame.copy()\n",
    "\n",
    "        \"\"\" iterate for all the frames and compute the flow from every two frames using selected approach \"\"\"\n",
    "        while True:\n",
    "            _ret, curr_frame = cam.read()\n",
    "            if _ret == False:\n",
    "                break\n",
    "            res_curr_frame = cv.resize(curr_frame, target_size)\n",
    "            curr_gray = cv.cvtColor(res_curr_frame, cv.COLOR_BGR2GRAY)\n",
    "            \n",
    "            flow = calc_optical_flow(optFlow, res_prev_frame, res_curr_frame, prev_gray, curr_gray)\n",
    "            if show_hsv:\n",
    "                bgr = draw_hsv(flow)\n",
    "                #display(bgr)\n",
    "                writer.write(bgr)\n",
    "\n",
    "            if show_glitch:\n",
    "                cur_glitch = warp_flow(cur_glitch, flow)\n",
    "                display(cur_glitch)\n",
    "                \n",
    "            prev_gray = curr_gray\n",
    "            res_prev_frame = res_curr_frame\n",
    "                \n",
    "        cam.release()\n",
    "        writer.release()"
   ]
  },
  {
   "cell_type": "code",
   "execution_count": 17,
   "metadata": {},
   "outputs": [
    {
     "name": "stdout",
     "output_type": "stream",
     "text": [
      "__doc__\n"
     ]
    }
   ],
   "source": [
    "if __name__== \"__main__\":\n",
    "    print(\"__doc__\")\n",
    "    main()\n",
    "    cv.destroyAllWindows()"
   ]
  }
 ],
 "metadata": {
  "kernelspec": {
   "display_name": "Python 3",
   "language": "python",
   "name": "python3"
  },
  "language_info": {
   "codemirror_mode": {
    "name": "ipython",
    "version": 3
   },
   "file_extension": ".py",
   "mimetype": "text/x-python",
   "name": "python",
   "nbconvert_exporter": "python",
   "pygments_lexer": "ipython3",
   "version": "3.7.3"
  }
 },
 "nbformat": 4,
 "nbformat_minor": 4
}
